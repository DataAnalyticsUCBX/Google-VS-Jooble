{
 "cells": [
  {
   "cell_type": "code",
   "execution_count": 87,
   "metadata": {},
   "outputs": [],
   "source": [
    "import requests\n",
    "import json\n",
    "import pandas as pd"
   ]
  },
  {
   "cell_type": "code",
   "execution_count": 88,
   "metadata": {},
   "outputs": [],
   "source": [
    "title = []\n",
    "location = []\n",
    "snippet = []\n",
    "salary = []\n",
    "source = []\n",
    "type = []\n",
    "link = []\n",
    "company =[]\n",
    "updated = []\n",
    "id = []"
   ]
  },
  {
   "cell_type": "code",
   "execution_count": 89,
   "metadata": {},
   "outputs": [],
   "source": [
    "url  ='https://us.jooble.org/api/'\n",
    "key = '5e885af9-75bb-4d99-b61b-29451e56addb'\n",
    "final_url = (f\"{url}{key}\")\n",
    "headers = {\"Content-type\": \"application/x-www-form-urlencoded\"}\n",
    "#job_keyword = input('Enter a job title keyword')\n",
    "#job_location = input('Enter a job location')\n",
    "job_keyword = 'Python'\n",
    "job_location = 'Dallas'\n",
    "params = {\"keywords\":job_keyword,\"location\":job_location}\n",
    "params2 =str(params)\n",
    "response = requests.post(url=final_url,data=params2,headers=headers)\n",
    "response_json = response.json()"
   ]
  },
  {
   "cell_type": "code",
   "execution_count": 90,
   "metadata": {},
   "outputs": [],
   "source": [
    "def add_to_list(ttl,loc,snip,sal,src,typ,lnk,cmpny,updt,ids):\n",
    "    title.append(ttl)\n",
    "    location.append(loc)\n",
    "    snippet.append(snip)\n",
    "    salary.append(sal)\n",
    "    source.append(src)\n",
    "    type.append(typ)\n",
    "    link.append(lnk)\n",
    "    company.append(cmpny)\n",
    "    updated.append(updt)\n",
    "    id.append(ids)"
   ]
  },
  {
   "cell_type": "code",
   "execution_count": 91,
   "metadata": {},
   "outputs": [],
   "source": [
    "for job in response_json['jobs']:\n",
    "    try:\n",
    "        val_record1 = job['title']\n",
    "        val_record2 = job['location']\n",
    "    except:\n",
    "        continue\n",
    "    def try_catch(item):\n",
    "        try:\n",
    "            item = job[item]\n",
    "            return item\n",
    "        except KeyError:\n",
    "            item =('Not Available')\n",
    "            return item\n",
    "    ttl = try_catch('title')\n",
    "    loc = try_catch('location')\n",
    "    snip = try_catch('snippet')\n",
    "    sal = try_catch('salary')\n",
    "    src = try_catch('source')\n",
    "    typ = try_catch('type')\n",
    "    lnk = try_catch('link')\n",
    "    cmpny = try_catch('company')\n",
    "    updt = try_catch('updated')\n",
    "    ids = try_catch('id')\n",
    "    add_to_list(ttl,loc,snip,sal,src,typ,lnk,cmpny,updt,ids)"
   ]
  },
  {
   "cell_type": "code",
   "execution_count": 92,
   "metadata": {},
   "outputs": [
    {
     "name": "stdout",
     "output_type": "stream",
     "text": [
      "title %s, location %s, salary %s, company %s, snippet %s, source %s, type %s, link %s, updated %s, id %s  20 20 20 20 20 20 0 20 20 0\n",
      "{'totalCount': 1186, 'jobs': [{'title': 'Python Engineer', 'location': 'Irving, TX', 'snippet': '&nbsp;...Job Description \\r\\n\\r\\n <b>Python </b> Engineer/CTP/Irving,  TX/Competitive Rate \\r\\n PYTHON ENGINEER- CONTRACT TO PERM-IRVING, TX \\r\\n The end client is unable to sponsor or transfer visas for this position; all parties authorized to work in the US without sponsorship are encouraged...&nbsp;', 'salary': '', 'source': 'ziprecruiter.com', 'type': '', 'link': 'https://us.jooble.org/away/6927226490915541916?p=1&pos=1&cid=253&ckey=Python&age=51&relb=155&brelb=100&scr=1311,152037&bscr=845,90454&aq=17943703', 'company': 'Hays', 'updated': '2018-11-15T00:00:00.0000000', 'id': 6927226490915541916}, {'title': 'Python Software Engineer', 'location': 'Plano, TX', 'snippet': '&nbsp;...without a lot of direction\\r\\n Experience as a Software Developer for high-tech products or services\\r\\n Strong production experience with <b>Python\\r</b>\\n Experience automating processes in Python\\r\\n Strong troubleshooting ability is a plus\\r\\n Robotic Process Automation experience is a...&nbsp;', 'salary': '', 'source': 'rev.appcast.io', 'type': '', 'link': 'https://us.jooble.org/desc/5211314422047497862?ckey=Python&rgn=45973&pos=2&elckey=-2616147889028839875&aq=17943703&age=147&relb=160&brelb=100&bscr=794,85834&scr=1271,773344', 'company': 'Hunter Technical Resources', 'updated': '2018-11-11T00:00:00.0000000', 'id': 5211314422047497862}, {'title': 'Python Developer', 'location': 'Addison, TX', 'snippet': '&nbsp;...for a remote role with no micromanagement? If so then read on! In this role we are looking for an experienced Full Stack Developer (<b>Python)</b> to be part of our Agile and growing software development team in expanding our core payment processing platform and products...&nbsp;', 'salary': '', 'source': 'ziprecruiter.com', 'type': '', 'link': 'https://us.jooble.org/away/-4378553485056703094?p=1&pos=3&cid=253&ckey=Python&age=99&relb=155&brelb=100&scr=1271,32767&bscr=820,2114&aq=17943703', 'company': 'NewGig', 'updated': '2018-11-13T00:00:00.0000000', 'id': -4378553485056703094}, {'title': 'Senior Software Engineer - Python', 'location': 'Plano, TX', 'snippet': '&nbsp;...achieve their goals and realize their dreams. Together, we are on a quest to change banking for good. \\r\\n\\r\\n Senior Software Engineer - <b>Python </b>\\r\\n\\r\\n Do you want to work for a tech company that writes its own code, develops its own software, and builds its own products? We...&nbsp;', 'salary': '', 'source': 'rev.appcast.io', 'type': '', 'link': 'https://us.jooble.org/desc/4103961215873722192?ckey=Python&rgn=45973&pos=4&elckey=-2616147889028839875&aq=17943703&age=147&relb=160&brelb=100&bscr=766,6159&scr=1226,58544', 'company': 'Capital One', 'updated': '2018-11-11T00:00:00.0000000', 'id': 4103961215873722192}, {'title': 'Python Django Developer', 'location': 'Dallas, TX', 'snippet': 'Calance Available JobsJob Openings | Calance IT StaffingJob Openings - CalanceCalanceCreating Customer Alliances \\r\\nJob Openings \\r\\nBy Job Title \\r\\nBy Date Created \\r\\nBy State \\r\\nFor Employers \\r\\nContact Us \\r\\nCorporate \\r\\nAll Our Services \\r\\nBlog \\r\\nJob Openings \\r\\nJob Openings \\r...', 'salary': '', 'source': 'resume-library.com', 'type': 'Full-time', 'link': 'https://us.jooble.org/desc/4466473921338332781?ckey=Python&rgn=45973&pos=5&elckey=-2616147889028839875&aq=17943703&age=435&relb=142&brelb=100&bscr=761,41565&scr=1081,210223', 'company': 'Calance US', 'updated': '2018-10-30T00:00:00.0000000', 'id': 4466473921338332781}, {'title': 'Python Developer', 'location': 'Lewisville, TX', 'snippet': '<b>Python </b>Developer \\r\\nRef No.: 18-52624\\r\\nLocation: Lewisville, Texas \\r\\nStart Date / End Date: 08/24/2018 to 08/23/2019\\r\\nJob Title: Python Developer \\r\\nJob ID: 18-52624\\r\\nLocation: Lewisville, TX \\r\\nDuration: 6 Months \\r\\nJob Vacancies: 1\\r\\nNote: Only W2 (No Corp-to-Corp)\\r\\nRoles...&nbsp;', 'salary': '', 'source': 'resume-library.com', 'type': 'Full-time', 'link': 'https://us.jooble.org/desc/-6005753283053930758?ckey=Python&rgn=45973&pos=6&elckey=-2616147889028839875&aq=17943703&age=651&relb=142&brelb=100&bscr=759,1879&scr=1078,046818', 'company': 'Tech-Pro Inc', 'updated': '2018-10-21T00:00:00.0000000', 'id': -6005753283053930758}, {'title': 'Python / Java / Javascript Developer', 'location': 'Richardson, TX', 'snippet': '&nbsp;...Job Description \\r\\n Join one of the hottest startups in Dallas! Theatro Labs, Inc is in immediate need of a <b>Python </b>/ Java developer with the following skillsets\\xa0\\r\\n Responsibilities: \\r\\n Design, develop, test and document scalable, highly reliable, enterprise global systems...&nbsp;', 'salary': '', 'source': 'ziprecruiter.com', 'type': '', 'link': 'https://us.jooble.org/away/6694201425748675318?p=1&pos=7&cid=253&ckey=Python&age=699&relb=155&brelb=100&scr=1043,987775&bscr=673,5405&aq=17943703', 'company': 'Theatro Labs, Inc', 'updated': '2018-10-19T00:00:00.0000000', 'id': 6694201425748675318}, {'title': 'IT Engineer (AWS, Python / Bash, Windows / Linux)', 'location': 'Addison, TX', 'snippet': '&nbsp;...this initial backlog is dealt with however, the role will develop into a Junior DevOps role! They want someone who can script with <b>Python </b>or Bash, and wants to ramp up on automation scripting and with AWS. They will be part of a team that’s going to design and implement...&nbsp;', 'salary': '', 'source': 'rev.appcast.io', 'type': '', 'link': 'https://us.jooble.org/desc/5580516473381358208?ckey=Python&rgn=45973&pos=8&elckey=-2616147889028839875&aq=17943703&age=27&relb=160&brelb=100&bscr=619,4163&scr=991,06608', 'company': 'Workbridge Associates', 'updated': '2018-11-16T00:00:00.0000000', 'id': 5580516473381358208}, {'title': 'Full Stack: Vue.js/Javascript/Python Developer', 'location': 'Dallas, TX', 'snippet': \"&nbsp;...and Algorithms  : Your code should be performance oriented and you need to be able to think that way \\r\\n Very Nice to have Skills \\r\\n <b>Python </b>\\r\\n Postgres \\r\\n What you'll be doing \\r\\n You'll be building a large complex very cool SPA, with a team of very talented developers...&nbsp;\", 'salary': '', 'source': 'ziprecruiter.com', 'type': '', 'link': 'https://us.jooble.org/away/5921007622507642763?p=1&pos=9&cid=253&ckey=Python&age=99&relb=155&brelb=100&scr=949,658495&bscr=612,6829&aq=17943703', 'company': 'Service Fusion', 'updated': '2018-11-13T00:00:00.0000000', 'id': 5921007622507642763}, {'title': 'Software - JAVA / PHP / Python Developer - Relocation Package!', 'location': 'Dallas, TX', 'snippet': ' Job Description \\r\\n Join our agile team tasked with designing, implementing and supporting software services for our next-generation software platform. In addition to developing new features and services, you will also help bring our codebase to a modern, testable, and ...', 'salary': '', 'source': 'ziprecruiter.com', 'type': '', 'link': 'https://us.jooble.org/away/6458671500436978998?p=1&pos=10&cid=253&ckey=Python&age=339&relb=155&brelb=100&scr=918,596092&bscr=592,64264&aq=17943703', 'company': 'Advanced Reimbursement Solutions LLC', 'updated': '2018-11-03T00:00:00.0000000', 'id': 6458671500436978998}, {'title': 'Python Software Engineer', 'location': 'Plano, TX', 'snippet': '&nbsp;...As our team builds and supports new applications at a rapid pace, we are looking for a exceptional, passionate and highly-motivated <b>Python </b>Software Engineer who will develop and participate in testing and documentation of large-scale, distributed software applications,...&nbsp;', 'salary': '', 'source': 'OrangePeople', 'type': '', 'link': 'https://us.jooble.org/jdp/-4545849032395715914/Python-Software-Engineer-Plano%2C-TX?ckey=Python&rgn=45973&pos=11&elckey=-2616147889028839875&aq=17943703&age=85&relb=100&brelb=100&bscr=816,25146&scr=816,25146', 'company': 'OrangePeople', 'updated': '2018-11-13T13:05:04.9978728+02:00', 'id': -4545849032395715914}, {'title': 'Python Developer - Network', 'location': 'Richardson, TX', 'snippet': '&nbsp;...You will develop software solutions that require ingenuity with an emphasis on continuous operational improvement and efficiency. <b>Python </b>developer responsibilities include writing and testing code, debugging, and integrating applications with existing platforms to propel...&nbsp;', 'salary': '', 'source': 'verizon.com', 'type': 'Full-time', 'link': 'https://us.jooble.org/desc/4638414638402497070?ckey=Python&rgn=45973&pos=12&elckey=-2616147889028839875&aq=17943703&age=51&relb=100&brelb=100&bscr=801,47565&scr=801,47565', 'company': 'Verizon', 'updated': '2018-11-15T00:00:00.0000000', 'id': 4638414638402497070}, {'title': 'Django / Python Developer', 'location': 'Dallas, TX', 'snippet': '&nbsp;...Description \\r\\n Kforce has a client in search of a Django/<b>Python </b>Developer in Dallas, Texas (TX).Essential Functions:\\r\\n Under broad direction and supervision, develops, maintains, and enhances client systems as well as designs and develops new features \\r\\n Develops, maintains...&nbsp;', 'salary': '', 'source': 'kforce.com', 'type': 'Temporary', 'link': 'https://us.jooble.org/desc/-8296024083993459803?ckey=Python&rgn=45973&pos=13&elckey=-2616147889028839875&aq=17943703&age=267&relb=100&brelb=100&bscr=799,60846&scr=799,60846', 'updated': '2018-11-06T00:00:00.0000000', 'id': -8296024083993459803}, {'title': 'Python Test Engineer', 'location': 'Plano, TX', 'snippet': '&nbsp;...Career Opportunity \\r\\n The <b>Python </b>Test Engineer will be responsible for the testing and validation of APCON’s industry leading suite of network monitoring solutions. \\r\\n Responsibilities and Duties \\r\\n Test high-performance TCP/IP networking protocols at layer 2 and layer...&nbsp;', 'salary': '', 'source': 'jazzhr.com', 'type': '', 'link': 'https://us.jooble.org/desc/4302030370570445641?ckey=Python&rgn=45973&pos=14&elckey=-2616147889028839875&aq=17943703&age=51&relb=100&brelb=100&bscr=795,31165&scr=795,31165', 'company': 'APCON', 'updated': '2018-11-15T00:00:00.0000000', 'id': 4302030370570445641}, {'title': 'Python Developer', 'location': 'Dallas, TX', 'snippet': '&nbsp;...Role \\r\\n Experience with <b>Python </b>\\r\\n Comfortable with the Linux command line environment \\r\\n Experience developing a large Python based back-end processing application \\r\\n Experience developing a distributed worker model leveraging worker status queues \\r\\n Experience performing...&nbsp;', 'salary': '', 'source': 'mightyrecruiter.com', 'type': 'Temporary', 'link': 'https://us.jooble.org/desc/1421356456796771248?ckey=Python&rgn=45973&pos=15&elckey=-2616147889028839875&aq=17943703&age=387&relb=100&brelb=100&bscr=795,0604&scr=795,0604', 'company': 'Up2date Technology Solutions, LLC', 'updated': '2018-11-01T00:00:00.0000000', 'id': 1421356456796771248}, {'title': 'Python Software Engineer', 'location': 'Plano, TX', 'snippet': '&nbsp;...PROLIM Global Corporation ( is currently seeking  <b>Python </b>Software Engineer  for location  Plano, TX  for one of our top client. \\r\\n\\xa0\\r\\n Job Description: \\r\\n Experience as a Software Developer for high-tech products or services \\r\\n Strong production experience with Python...&nbsp;', 'salary': '', 'source': 'thstaging.ceipal.com', 'type': 'Full-time', 'link': 'https://us.jooble.org/desc/5435519444931545179?ckey=Python&rgn=45973&pos=16&elckey=-2616147889028839875&aq=17943703&age=195&relb=100&brelb=100&bscr=779,8157&scr=779,8157', 'company': 'Prolim Global', 'updated': '2018-11-09T00:00:00.0000000', 'id': 5435519444931545179}, {'title': 'Go and Python Developer', 'location': 'Irving, TX', 'snippet': '&nbsp;..., we ensure a bright future for NTT DATA Services\\xa0and for the people who work here.\\r\\n\\xa0\\r\\nNTT DATA\\xa0Services currently seeks a\\xa0Go and <b>Python </b>Developerto join our team in Irving, Texas (US-TX), United States (US).\\r\\n\\xa0\\r\\n\\xa0\\r\\n\\xa0\\r\\n3-4 Years of experience. Must demonstrate usage of...&nbsp;', 'salary': '', 'source': 'NTT DATA Services', 'type': '', 'link': 'https://us.jooble.org/jdp/-4930014008731322020/Go-and-Python-Developer-Irving%2C-TX?ckey=Python&rgn=45973&pos=17&elckey=-2616147889028839875&aq=17943703&age=315&relb=100&brelb=100&bscr=768,8801&scr=768,8801', 'company': 'NTT DATA Services', 'updated': '2018-11-04T00:00:00.0000000', 'id': -4930014008731322020}, {'title': 'Python Developer', 'location': 'Plano, TX', 'snippet': '&nbsp;...with general guidance from more seasoned consultants. Typically requires 5-7 years of experience. \\r\\n Key Responsibilities \\r\\n As a <b>Python </b>Developer, you will be a part of a team of developers delivering in an Agile environment. \\xa0You will be expected to work directly with...&nbsp;', 'salary': '', 'source': 'bankofamerica.com', 'type': 'Full-time', 'link': 'https://us.jooble.org/desc/3165084094505391727?ckey=Python&rgn=45973&pos=18&elckey=-2616147889028839875&aq=17943703&age=603&relb=100&brelb=100&bscr=762,4644&scr=762,4644', 'updated': '2018-10-23T00:00:00.0000000', 'id': 3165084094505391727}, {'title': 'Python Developer with polygraph', 'location': 'Arlington, TX', 'snippet': '&nbsp;...of relevant consulting or industry experience \\r\\n~ Experience working independently with minimal guidance \\r\\n~ Experience with: SQL; <b>Python;</b> R; VBA, Hadoop \\r\\n~ Strong problem solving and troubleshooting skills with experience exercising mature judgment \\r\\n~ Proven experience...&nbsp;', 'salary': '', 'source': 'deloitte.com', 'type': '', 'link': 'https://us.jooble.org/desc/8693754944148233646?ckey=Python&rgn=45973&pos=19&elckey=-2616147889028839875&aq=17943703&age=310&relb=100&brelb=100&bscr=734,5044&scr=734,5044', 'company': 'Deloitte', 'updated': '2018-11-04T04:37:33.0548839+02:00', 'id': 8693754944148233646}, {'title': 'Software Developer (Python/Django)', 'location': 'Dallas, TX', 'snippet': '&nbsp;...If you are a Software  Developer (<b>Python/</b>Django) with experience, please read on!\\r\\n Title: Software  Developer (Python/Django) \\r\\n Location: Dallas, TX \\r\\n Salary: Negotiable | Depending on experience  Based in Dallas, TX, we are a world-renowned Basketball company....&nbsp;', 'salary': '', 'source': 'Cybercoders.com', 'type': '', 'link': 'https://us.jooble.org/desc/4644700557075286482?ckey=Python&rgn=45973&pos=20&elckey=-2616147889028839875&aq=17943703&age=363&relb=100&brelb=100&bscr=728,48694&scr=728,48694', 'company': 'CyberCoders', 'updated': '2018-11-02T00:00:00.0000000', 'id': 4644700557075286482}]}\n"
     ]
    }
   ],
   "source": [
    "print(\"title %s, location %s, salary %s, company %s, snippet %s, source %s, type %s, link %s, updated %s, id %s \", len(title), len(location),len(salary),len(company),len(snippet),len(source),len(jb_type),len(link),len(updated),len(jbl_id))\n",
    "#print(response)\n",
    "print(response_json)"
   ]
  },
  {
   "cell_type": "code",
   "execution_count": 93,
   "metadata": {},
   "outputs": [],
   "source": [
    "DataSet = pd.DataFrame({\n",
    "    \"Title\": title,\n",
    "    \"Location\": location,\n",
    "    \"Salary\": salary,\n",
    "    \"company\": company,\n",
    "    \"Snippet\": snippet,\n",
    "    \"Source\": source,\n",
    "    \"Type\": type,\n",
    "    \"Link\": link,\n",
    "    \"Updated\": updated,\n",
    "    \"ID\": id\n",
    "})"
   ]
  },
  {
   "cell_type": "code",
   "execution_count": 94,
   "metadata": {},
   "outputs": [
    {
     "name": "stdout",
     "output_type": "stream",
     "text": [
      "<Response [200]>\n",
      "{'totalCount': 1186, 'jobs': [{'title': 'Python Engineer', 'location': 'Irving, TX', 'snippet': '&nbsp;...Job Description \\r\\n\\r\\n <b>Python </b> Engineer/CTP/Irving,  TX/Competitive Rate \\r\\n PYTHON ENGINEER- CONTRACT TO PERM-IRVING, TX \\r\\n The end client is unable to sponsor or transfer visas for this position; all parties authorized to work in the US without sponsorship are encouraged...&nbsp;', 'salary': '', 'source': 'ziprecruiter.com', 'type': '', 'link': 'https://us.jooble.org/away/6927226490915541916?p=1&pos=1&cid=253&ckey=Python&age=51&relb=155&brelb=100&scr=1311,152037&bscr=845,90454&aq=17943703', 'company': 'Hays', 'updated': '2018-11-15T00:00:00.0000000', 'id': 6927226490915541916}, {'title': 'Python Software Engineer', 'location': 'Plano, TX', 'snippet': '&nbsp;...without a lot of direction\\r\\n Experience as a Software Developer for high-tech products or services\\r\\n Strong production experience with <b>Python\\r</b>\\n Experience automating processes in Python\\r\\n Strong troubleshooting ability is a plus\\r\\n Robotic Process Automation experience is a...&nbsp;', 'salary': '', 'source': 'rev.appcast.io', 'type': '', 'link': 'https://us.jooble.org/desc/5211314422047497862?ckey=Python&rgn=45973&pos=2&elckey=-2616147889028839875&aq=17943703&age=147&relb=160&brelb=100&bscr=794,85834&scr=1271,773344', 'company': 'Hunter Technical Resources', 'updated': '2018-11-11T00:00:00.0000000', 'id': 5211314422047497862}, {'title': 'Python Developer', 'location': 'Addison, TX', 'snippet': '&nbsp;...for a remote role with no micromanagement? If so then read on! In this role we are looking for an experienced Full Stack Developer (<b>Python)</b> to be part of our Agile and growing software development team in expanding our core payment processing platform and products...&nbsp;', 'salary': '', 'source': 'ziprecruiter.com', 'type': '', 'link': 'https://us.jooble.org/away/-4378553485056703094?p=1&pos=3&cid=253&ckey=Python&age=99&relb=155&brelb=100&scr=1271,32767&bscr=820,2114&aq=17943703', 'company': 'NewGig', 'updated': '2018-11-13T00:00:00.0000000', 'id': -4378553485056703094}, {'title': 'Senior Software Engineer - Python', 'location': 'Plano, TX', 'snippet': '&nbsp;...achieve their goals and realize their dreams. Together, we are on a quest to change banking for good. \\r\\n\\r\\n Senior Software Engineer - <b>Python </b>\\r\\n\\r\\n Do you want to work for a tech company that writes its own code, develops its own software, and builds its own products? We...&nbsp;', 'salary': '', 'source': 'rev.appcast.io', 'type': '', 'link': 'https://us.jooble.org/desc/4103961215873722192?ckey=Python&rgn=45973&pos=4&elckey=-2616147889028839875&aq=17943703&age=147&relb=160&brelb=100&bscr=766,6159&scr=1226,58544', 'company': 'Capital One', 'updated': '2018-11-11T00:00:00.0000000', 'id': 4103961215873722192}, {'title': 'Python Django Developer', 'location': 'Dallas, TX', 'snippet': 'Calance Available JobsJob Openings | Calance IT StaffingJob Openings - CalanceCalanceCreating Customer Alliances \\r\\nJob Openings \\r\\nBy Job Title \\r\\nBy Date Created \\r\\nBy State \\r\\nFor Employers \\r\\nContact Us \\r\\nCorporate \\r\\nAll Our Services \\r\\nBlog \\r\\nJob Openings \\r\\nJob Openings \\r...', 'salary': '', 'source': 'resume-library.com', 'type': 'Full-time', 'link': 'https://us.jooble.org/desc/4466473921338332781?ckey=Python&rgn=45973&pos=5&elckey=-2616147889028839875&aq=17943703&age=435&relb=142&brelb=100&bscr=761,41565&scr=1081,210223', 'company': 'Calance US', 'updated': '2018-10-30T00:00:00.0000000', 'id': 4466473921338332781}, {'title': 'Python Developer', 'location': 'Lewisville, TX', 'snippet': '<b>Python </b>Developer \\r\\nRef No.: 18-52624\\r\\nLocation: Lewisville, Texas \\r\\nStart Date / End Date: 08/24/2018 to 08/23/2019\\r\\nJob Title: Python Developer \\r\\nJob ID: 18-52624\\r\\nLocation: Lewisville, TX \\r\\nDuration: 6 Months \\r\\nJob Vacancies: 1\\r\\nNote: Only W2 (No Corp-to-Corp)\\r\\nRoles...&nbsp;', 'salary': '', 'source': 'resume-library.com', 'type': 'Full-time', 'link': 'https://us.jooble.org/desc/-6005753283053930758?ckey=Python&rgn=45973&pos=6&elckey=-2616147889028839875&aq=17943703&age=651&relb=142&brelb=100&bscr=759,1879&scr=1078,046818', 'company': 'Tech-Pro Inc', 'updated': '2018-10-21T00:00:00.0000000', 'id': -6005753283053930758}, {'title': 'Python / Java / Javascript Developer', 'location': 'Richardson, TX', 'snippet': '&nbsp;...Job Description \\r\\n Join one of the hottest startups in Dallas! Theatro Labs, Inc is in immediate need of a <b>Python </b>/ Java developer with the following skillsets\\xa0\\r\\n Responsibilities: \\r\\n Design, develop, test and document scalable, highly reliable, enterprise global systems...&nbsp;', 'salary': '', 'source': 'ziprecruiter.com', 'type': '', 'link': 'https://us.jooble.org/away/6694201425748675318?p=1&pos=7&cid=253&ckey=Python&age=699&relb=155&brelb=100&scr=1043,987775&bscr=673,5405&aq=17943703', 'company': 'Theatro Labs, Inc', 'updated': '2018-10-19T00:00:00.0000000', 'id': 6694201425748675318}, {'title': 'IT Engineer (AWS, Python / Bash, Windows / Linux)', 'location': 'Addison, TX', 'snippet': '&nbsp;...this initial backlog is dealt with however, the role will develop into a Junior DevOps role! They want someone who can script with <b>Python </b>or Bash, and wants to ramp up on automation scripting and with AWS. They will be part of a team that’s going to design and implement...&nbsp;', 'salary': '', 'source': 'rev.appcast.io', 'type': '', 'link': 'https://us.jooble.org/desc/5580516473381358208?ckey=Python&rgn=45973&pos=8&elckey=-2616147889028839875&aq=17943703&age=27&relb=160&brelb=100&bscr=619,4163&scr=991,06608', 'company': 'Workbridge Associates', 'updated': '2018-11-16T00:00:00.0000000', 'id': 5580516473381358208}, {'title': 'Full Stack: Vue.js/Javascript/Python Developer', 'location': 'Dallas, TX', 'snippet': \"&nbsp;...and Algorithms  : Your code should be performance oriented and you need to be able to think that way \\r\\n Very Nice to have Skills \\r\\n <b>Python </b>\\r\\n Postgres \\r\\n What you'll be doing \\r\\n You'll be building a large complex very cool SPA, with a team of very talented developers...&nbsp;\", 'salary': '', 'source': 'ziprecruiter.com', 'type': '', 'link': 'https://us.jooble.org/away/5921007622507642763?p=1&pos=9&cid=253&ckey=Python&age=99&relb=155&brelb=100&scr=949,658495&bscr=612,6829&aq=17943703', 'company': 'Service Fusion', 'updated': '2018-11-13T00:00:00.0000000', 'id': 5921007622507642763}, {'title': 'Software - JAVA / PHP / Python Developer - Relocation Package!', 'location': 'Dallas, TX', 'snippet': ' Job Description \\r\\n Join our agile team tasked with designing, implementing and supporting software services for our next-generation software platform. In addition to developing new features and services, you will also help bring our codebase to a modern, testable, and ...', 'salary': '', 'source': 'ziprecruiter.com', 'type': '', 'link': 'https://us.jooble.org/away/6458671500436978998?p=1&pos=10&cid=253&ckey=Python&age=339&relb=155&brelb=100&scr=918,596092&bscr=592,64264&aq=17943703', 'company': 'Advanced Reimbursement Solutions LLC', 'updated': '2018-11-03T00:00:00.0000000', 'id': 6458671500436978998}, {'title': 'Python Software Engineer', 'location': 'Plano, TX', 'snippet': '&nbsp;...As our team builds and supports new applications at a rapid pace, we are looking for a exceptional, passionate and highly-motivated <b>Python </b>Software Engineer who will develop and participate in testing and documentation of large-scale, distributed software applications,...&nbsp;', 'salary': '', 'source': 'OrangePeople', 'type': '', 'link': 'https://us.jooble.org/jdp/-4545849032395715914/Python-Software-Engineer-Plano%2C-TX?ckey=Python&rgn=45973&pos=11&elckey=-2616147889028839875&aq=17943703&age=85&relb=100&brelb=100&bscr=816,25146&scr=816,25146', 'company': 'OrangePeople', 'updated': '2018-11-13T13:05:04.9978728+02:00', 'id': -4545849032395715914}, {'title': 'Python Developer - Network', 'location': 'Richardson, TX', 'snippet': '&nbsp;...You will develop software solutions that require ingenuity with an emphasis on continuous operational improvement and efficiency. <b>Python </b>developer responsibilities include writing and testing code, debugging, and integrating applications with existing platforms to propel...&nbsp;', 'salary': '', 'source': 'verizon.com', 'type': 'Full-time', 'link': 'https://us.jooble.org/desc/4638414638402497070?ckey=Python&rgn=45973&pos=12&elckey=-2616147889028839875&aq=17943703&age=51&relb=100&brelb=100&bscr=801,47565&scr=801,47565', 'company': 'Verizon', 'updated': '2018-11-15T00:00:00.0000000', 'id': 4638414638402497070}, {'title': 'Django / Python Developer', 'location': 'Dallas, TX', 'snippet': '&nbsp;...Description \\r\\n Kforce has a client in search of a Django/<b>Python </b>Developer in Dallas, Texas (TX).Essential Functions:\\r\\n Under broad direction and supervision, develops, maintains, and enhances client systems as well as designs and develops new features \\r\\n Develops, maintains...&nbsp;', 'salary': '', 'source': 'kforce.com', 'type': 'Temporary', 'link': 'https://us.jooble.org/desc/-8296024083993459803?ckey=Python&rgn=45973&pos=13&elckey=-2616147889028839875&aq=17943703&age=267&relb=100&brelb=100&bscr=799,60846&scr=799,60846', 'updated': '2018-11-06T00:00:00.0000000', 'id': -8296024083993459803}, {'title': 'Python Test Engineer', 'location': 'Plano, TX', 'snippet': '&nbsp;...Career Opportunity \\r\\n The <b>Python </b>Test Engineer will be responsible for the testing and validation of APCON’s industry leading suite of network monitoring solutions. \\r\\n Responsibilities and Duties \\r\\n Test high-performance TCP/IP networking protocols at layer 2 and layer...&nbsp;', 'salary': '', 'source': 'jazzhr.com', 'type': '', 'link': 'https://us.jooble.org/desc/4302030370570445641?ckey=Python&rgn=45973&pos=14&elckey=-2616147889028839875&aq=17943703&age=51&relb=100&brelb=100&bscr=795,31165&scr=795,31165', 'company': 'APCON', 'updated': '2018-11-15T00:00:00.0000000', 'id': 4302030370570445641}, {'title': 'Python Developer', 'location': 'Dallas, TX', 'snippet': '&nbsp;...Role \\r\\n Experience with <b>Python </b>\\r\\n Comfortable with the Linux command line environment \\r\\n Experience developing a large Python based back-end processing application \\r\\n Experience developing a distributed worker model leveraging worker status queues \\r\\n Experience performing...&nbsp;', 'salary': '', 'source': 'mightyrecruiter.com', 'type': 'Temporary', 'link': 'https://us.jooble.org/desc/1421356456796771248?ckey=Python&rgn=45973&pos=15&elckey=-2616147889028839875&aq=17943703&age=387&relb=100&brelb=100&bscr=795,0604&scr=795,0604', 'company': 'Up2date Technology Solutions, LLC', 'updated': '2018-11-01T00:00:00.0000000', 'id': 1421356456796771248}, {'title': 'Python Software Engineer', 'location': 'Plano, TX', 'snippet': '&nbsp;...PROLIM Global Corporation ( is currently seeking  <b>Python </b>Software Engineer  for location  Plano, TX  for one of our top client. \\r\\n\\xa0\\r\\n Job Description: \\r\\n Experience as a Software Developer for high-tech products or services \\r\\n Strong production experience with Python...&nbsp;', 'salary': '', 'source': 'thstaging.ceipal.com', 'type': 'Full-time', 'link': 'https://us.jooble.org/desc/5435519444931545179?ckey=Python&rgn=45973&pos=16&elckey=-2616147889028839875&aq=17943703&age=195&relb=100&brelb=100&bscr=779,8157&scr=779,8157', 'company': 'Prolim Global', 'updated': '2018-11-09T00:00:00.0000000', 'id': 5435519444931545179}, {'title': 'Go and Python Developer', 'location': 'Irving, TX', 'snippet': '&nbsp;..., we ensure a bright future for NTT DATA Services\\xa0and for the people who work here.\\r\\n\\xa0\\r\\nNTT DATA\\xa0Services currently seeks a\\xa0Go and <b>Python </b>Developerto join our team in Irving, Texas (US-TX), United States (US).\\r\\n\\xa0\\r\\n\\xa0\\r\\n\\xa0\\r\\n3-4 Years of experience. Must demonstrate usage of...&nbsp;', 'salary': '', 'source': 'NTT DATA Services', 'type': '', 'link': 'https://us.jooble.org/jdp/-4930014008731322020/Go-and-Python-Developer-Irving%2C-TX?ckey=Python&rgn=45973&pos=17&elckey=-2616147889028839875&aq=17943703&age=315&relb=100&brelb=100&bscr=768,8801&scr=768,8801', 'company': 'NTT DATA Services', 'updated': '2018-11-04T00:00:00.0000000', 'id': -4930014008731322020}, {'title': 'Python Developer', 'location': 'Plano, TX', 'snippet': '&nbsp;...with general guidance from more seasoned consultants. Typically requires 5-7 years of experience. \\r\\n Key Responsibilities \\r\\n As a <b>Python </b>Developer, you will be a part of a team of developers delivering in an Agile environment. \\xa0You will be expected to work directly with...&nbsp;', 'salary': '', 'source': 'bankofamerica.com', 'type': 'Full-time', 'link': 'https://us.jooble.org/desc/3165084094505391727?ckey=Python&rgn=45973&pos=18&elckey=-2616147889028839875&aq=17943703&age=603&relb=100&brelb=100&bscr=762,4644&scr=762,4644', 'updated': '2018-10-23T00:00:00.0000000', 'id': 3165084094505391727}, {'title': 'Python Developer with polygraph', 'location': 'Arlington, TX', 'snippet': '&nbsp;...of relevant consulting or industry experience \\r\\n~ Experience working independently with minimal guidance \\r\\n~ Experience with: SQL; <b>Python;</b> R; VBA, Hadoop \\r\\n~ Strong problem solving and troubleshooting skills with experience exercising mature judgment \\r\\n~ Proven experience...&nbsp;', 'salary': '', 'source': 'deloitte.com', 'type': '', 'link': 'https://us.jooble.org/desc/8693754944148233646?ckey=Python&rgn=45973&pos=19&elckey=-2616147889028839875&aq=17943703&age=310&relb=100&brelb=100&bscr=734,5044&scr=734,5044', 'company': 'Deloitte', 'updated': '2018-11-04T04:37:33.0548839+02:00', 'id': 8693754944148233646}, {'title': 'Software Developer (Python/Django)', 'location': 'Dallas, TX', 'snippet': '&nbsp;...If you are a Software  Developer (<b>Python/</b>Django) with experience, please read on!\\r\\n Title: Software  Developer (Python/Django) \\r\\n Location: Dallas, TX \\r\\n Salary: Negotiable | Depending on experience  Based in Dallas, TX, we are a world-renowned Basketball company....&nbsp;', 'salary': '', 'source': 'Cybercoders.com', 'type': '', 'link': 'https://us.jooble.org/desc/4644700557075286482?ckey=Python&rgn=45973&pos=20&elckey=-2616147889028839875&aq=17943703&age=363&relb=100&brelb=100&bscr=728,48694&scr=728,48694', 'company': 'CyberCoders', 'updated': '2018-11-02T00:00:00.0000000', 'id': 4644700557075286482}]}\n",
      "                                                Title        Location Salary  \\\n",
      "0                                     Python Engineer      Irving, TX          \n",
      "1                            Python Software Engineer       Plano, TX          \n",
      "2                                    Python Developer     Addison, TX          \n",
      "3                   Senior Software Engineer - Python       Plano, TX          \n",
      "4                             Python Django Developer      Dallas, TX          \n",
      "5                                    Python Developer  Lewisville, TX          \n",
      "6                Python / Java / Javascript Developer  Richardson, TX          \n",
      "7   IT Engineer (AWS, Python / Bash, Windows / Linux)     Addison, TX          \n",
      "8      Full Stack: Vue.js/Javascript/Python Developer      Dallas, TX          \n",
      "9   Software - JAVA / PHP / Python Developer - Rel...      Dallas, TX          \n",
      "10                           Python Software Engineer       Plano, TX          \n",
      "11                         Python Developer - Network  Richardson, TX          \n",
      "12                          Django / Python Developer      Dallas, TX          \n",
      "13                               Python Test Engineer       Plano, TX          \n",
      "14                                   Python Developer      Dallas, TX          \n",
      "15                           Python Software Engineer       Plano, TX          \n",
      "16                            Go and Python Developer      Irving, TX          \n",
      "17                                   Python Developer       Plano, TX          \n",
      "18                    Python Developer with polygraph   Arlington, TX          \n",
      "19                 Software Developer (Python/Django)      Dallas, TX          \n",
      "\n",
      "                                 company  \\\n",
      "0                                   Hays   \n",
      "1             Hunter Technical Resources   \n",
      "2                                 NewGig   \n",
      "3                            Capital One   \n",
      "4                             Calance US   \n",
      "5                           Tech-Pro Inc   \n",
      "6                      Theatro Labs, Inc   \n",
      "7                  Workbridge Associates   \n",
      "8                         Service Fusion   \n",
      "9   Advanced Reimbursement Solutions LLC   \n",
      "10                          OrangePeople   \n",
      "11                               Verizon   \n",
      "12                         Not Available   \n",
      "13                                 APCON   \n",
      "14     Up2date Technology Solutions, LLC   \n",
      "15                         Prolim Global   \n",
      "16                     NTT DATA Services   \n",
      "17                         Not Available   \n",
      "18                              Deloitte   \n",
      "19                           CyberCoders   \n",
      "\n",
      "                                              Snippet                Source  \\\n",
      "0   &nbsp;...Job Description \\r\\n\\r\\n <b>Python </...      ziprecruiter.com   \n",
      "1   &nbsp;...without a lot of direction\\r\\n Experi...        rev.appcast.io   \n",
      "2   &nbsp;...for a remote role with no micromanage...      ziprecruiter.com   \n",
      "3   &nbsp;...achieve their goals and realize their...        rev.appcast.io   \n",
      "4   Calance Available JobsJob Openings | Calance I...    resume-library.com   \n",
      "5   <b>Python </b>Developer \\r\\nRef No.: 18-52624\\...    resume-library.com   \n",
      "6   &nbsp;...Job Description \\r\\n Join one of the ...      ziprecruiter.com   \n",
      "7   &nbsp;...this initial backlog is dealt with ho...        rev.appcast.io   \n",
      "8   &nbsp;...and Algorithms  : Your code should be...      ziprecruiter.com   \n",
      "9    Job Description \\r\\n Join our agile team task...      ziprecruiter.com   \n",
      "10  &nbsp;...As our team builds and supports new a...          OrangePeople   \n",
      "11  &nbsp;...You will develop software solutions t...           verizon.com   \n",
      "12  &nbsp;...Description \\r\\n Kforce has a client ...            kforce.com   \n",
      "13  &nbsp;...Career Opportunity \\r\\n The <b>Python...            jazzhr.com   \n",
      "14  &nbsp;...Role \\r\\n Experience with <b>Python <...   mightyrecruiter.com   \n",
      "15  &nbsp;...PROLIM Global Corporation ( is curren...  thstaging.ceipal.com   \n",
      "16  &nbsp;..., we ensure a bright future for NTT D...     NTT DATA Services   \n",
      "17  &nbsp;...with general guidance from more seaso...     bankofamerica.com   \n",
      "18  &nbsp;...of relevant consulting or industry ex...          deloitte.com   \n",
      "19  &nbsp;...If you are a Software  Developer (<b>...       Cybercoders.com   \n",
      "\n",
      "         Type                                               Link  \\\n",
      "0              https://us.jooble.org/away/6927226490915541916...   \n",
      "1              https://us.jooble.org/desc/5211314422047497862...   \n",
      "2              https://us.jooble.org/away/-437855348505670309...   \n",
      "3              https://us.jooble.org/desc/4103961215873722192...   \n",
      "4   Full-time  https://us.jooble.org/desc/4466473921338332781...   \n",
      "5   Full-time  https://us.jooble.org/desc/-600575328305393075...   \n",
      "6              https://us.jooble.org/away/6694201425748675318...   \n",
      "7              https://us.jooble.org/desc/5580516473381358208...   \n",
      "8              https://us.jooble.org/away/5921007622507642763...   \n",
      "9              https://us.jooble.org/away/6458671500436978998...   \n",
      "10             https://us.jooble.org/jdp/-4545849032395715914...   \n",
      "11  Full-time  https://us.jooble.org/desc/4638414638402497070...   \n",
      "12  Temporary  https://us.jooble.org/desc/-829602408399345980...   \n",
      "13             https://us.jooble.org/desc/4302030370570445641...   \n",
      "14  Temporary  https://us.jooble.org/desc/1421356456796771248...   \n",
      "15  Full-time  https://us.jooble.org/desc/5435519444931545179...   \n",
      "16             https://us.jooble.org/jdp/-4930014008731322020...   \n",
      "17  Full-time  https://us.jooble.org/desc/3165084094505391727...   \n",
      "18             https://us.jooble.org/desc/8693754944148233646...   \n",
      "19             https://us.jooble.org/desc/4644700557075286482...   \n",
      "\n",
      "                              Updated                   ID  \n",
      "0         2018-11-15T00:00:00.0000000  6927226490915541916  \n",
      "1         2018-11-11T00:00:00.0000000  5211314422047497862  \n",
      "2         2018-11-13T00:00:00.0000000 -4378553485056703094  \n",
      "3         2018-11-11T00:00:00.0000000  4103961215873722192  \n",
      "4         2018-10-30T00:00:00.0000000  4466473921338332781  \n",
      "5         2018-10-21T00:00:00.0000000 -6005753283053930758  \n",
      "6         2018-10-19T00:00:00.0000000  6694201425748675318  \n",
      "7         2018-11-16T00:00:00.0000000  5580516473381358208  \n",
      "8         2018-11-13T00:00:00.0000000  5921007622507642763  \n",
      "9         2018-11-03T00:00:00.0000000  6458671500436978998  \n",
      "10  2018-11-13T13:05:04.9978728+02:00 -4545849032395715914  \n",
      "11        2018-11-15T00:00:00.0000000  4638414638402497070  \n",
      "12        2018-11-06T00:00:00.0000000 -8296024083993459803  \n",
      "13        2018-11-15T00:00:00.0000000  4302030370570445641  \n",
      "14        2018-11-01T00:00:00.0000000  1421356456796771248  \n",
      "15        2018-11-09T00:00:00.0000000  5435519444931545179  \n",
      "16        2018-11-04T00:00:00.0000000 -4930014008731322020  \n",
      "17        2018-10-23T00:00:00.0000000  3165084094505391727  \n",
      "18  2018-11-04T04:37:33.0548839+02:00  8693754944148233646  \n",
      "19        2018-11-02T00:00:00.0000000  4644700557075286482  \n"
     ]
    }
   ],
   "source": [
    "print(response)\n",
    "print(response_json)\n",
    "print(DataSet)"
   ]
  },
  {
   "cell_type": "code",
   "execution_count": 95,
   "metadata": {},
   "outputs": [],
   "source": [
    "DataSet.to_csv(\"Final_Data_Set.csv\", index=False, header=True)"
   ]
  }
 ],
 "metadata": {
  "kernelspec": {
   "display_name": "Python 3",
   "language": "python",
   "name": "python3"
  },
  "language_info": {
   "codemirror_mode": {
    "name": "ipython",
    "version": 3
   },
   "file_extension": ".py",
   "mimetype": "text/x-python",
   "name": "python",
   "nbconvert_exporter": "python",
   "pygments_lexer": "ipython3",
   "version": "3.7.0"
  }
 },
 "nbformat": 4,
 "nbformat_minor": 2
}
